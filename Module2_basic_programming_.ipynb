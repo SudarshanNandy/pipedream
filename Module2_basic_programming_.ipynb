{
  "nbformat": 4,
  "nbformat_minor": 0,
  "metadata": {
    "colab": {
      "provenance": [],
      "collapsed_sections": [],
      "authorship_tag": "ABX9TyMcGl6w3EWGQ6+iZ9BzMhdc",
      "include_colab_link": true
    },
    "kernelspec": {
      "name": "python3",
      "display_name": "Python 3"
    },
    "language_info": {
      "name": "python"
    }
  },
  "cells": [
    {
      "cell_type": "markdown",
      "metadata": {
        "id": "view-in-github",
        "colab_type": "text"
      },
      "source": [
        "<a href=\"https://colab.research.google.com/github/SudarshanNandy/pipedream/blob/master/Module2_basic_programming_.ipynb\" target=\"_parent\"><img src=\"https://colab.research.google.com/assets/colab-badge.svg\" alt=\"Open In Colab\"/></a>"
      ]
    },
    {
      "cell_type": "markdown",
      "source": [
        "The Content is going to cover the concept of using variables, data type and operators. "
      ],
      "metadata": {
        "id": "X6cFPbstP257"
      }
    },
    {
      "cell_type": "markdown",
      "source": [],
      "metadata": {
        "id": "RDFXKbvvP0bA"
      }
    },
    {
      "cell_type": "code",
      "source": [
        "a = 2\n",
        "b = 3\n",
        "c = a+b\n",
        "print(\"Addition of\", a, \"and\", b, \"is \", c)\n",
        "print(\"Addition of {} and {} is {}\".format(a,b,c))\n",
        "print(\"Addition of {0:0.1f} and {1:0.1f} in {2:0.1f}\".format(a,b,c))\n",
        "print(\"Addition of\"+str( a)+ \"and\"+ str(b)+ \"is \"+ str(c))"
      ],
      "metadata": {
        "colab": {
          "base_uri": "https://localhost:8080/"
        },
        "id": "E4aTNNvIQX1L",
        "outputId": "043d91b6-4037-45c3-8ae0-511f9a29ad0c"
      },
      "execution_count": 1,
      "outputs": [
        {
          "output_type": "stream",
          "name": "stdout",
          "text": [
            "Addition of 2 and 3 is  5\n",
            "Addition of 2 and 3 is 5\n",
            "Addition of 2.0 and 3.0 in 5.0\n",
            "Addition of2and3is 5\n"
          ]
        }
      ]
    }
  ]
}